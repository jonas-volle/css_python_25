{
 "cells": [
  {
   "cell_type": "markdown",
   "id": "008df3a6",
   "metadata": {
    "editable": true,
    "jp-MarkdownHeadingCollapsed": true,
    "slideshow": {
     "slide_type": "slide"
    },
    "tags": []
   },
   "source": [
    "# Einführung in Python für die Computational Social Science (CSS)\n",
    "## Jonas Volle\n",
    "Wissenschaftlicher Mitarbeiter  \n",
    "Chair of Methodology and Empirical Social Research  \n",
    "Otto-von-Guericke-Universität  \n",
    "\n",
    "[jonas.volle@ovgu.de](mailto:jonas.volle@ovgu.de)\n",
    "\n",
    "**Sprechstunde**: individuell nach vorheriger Anmeldung per [Mail](mailto:jonas.volle@ovgu.de)\n",
    "\n",
    "Freitag, 11.04.2025"
   ]
  },
  {
   "cell_type": "markdown",
   "id": "f2a42ee4",
   "metadata": {
    "editable": true,
    "slideshow": {
     "slide_type": "slide"
    },
    "tags": []
   },
   "source": [
    "# Inhalt\n",
    "\n",
    "1. Vorstellung\n",
    "2. Kursplan\n",
    "3. Einführung\n",
    "4. Grundlegene Befehle der Kommandozeile\n",
    "5. git\n",
    "6. Virtuelle anaconda Umgebungen\n",
    "7. Markdown\n",
    "8. Organisatorisches\n",
    "9. Literatur/Zusätzliches Material"
   ]
  },
  {
   "cell_type": "markdown",
   "id": "28f255fb",
   "metadata": {
    "editable": true,
    "slideshow": {
     "slide_type": "slide"
    },
    "tags": []
   },
   "source": [
    "# Vorstellung"
   ]
  },
  {
   "cell_type": "markdown",
   "id": "0ac144dd",
   "metadata": {
    "slideshow": {
     "slide_type": "subslide"
    }
   },
   "source": [
    "## Jonas Volle\n",
    "- Wissenschaftlicher Mitarbeiter am Lehrstuhl von Prof. Andreas Schmitz im DFG-Projekt \"Netzwerke, Paradigmen und Karrieren im akademischen Feld: Soziologie in Deutschland und den Vereinigten Staaten\"\n",
    "- Forschungsinteressen: Verknüpfung soziologischer Perspektiven und Methodologien mit Ansätzen der CSS (Textmining, Netzwerkanalysen, maschinelles Lernen) im Bereich der Wissenschaftssoziologie."
   ]
  },
  {
   "cell_type": "markdown",
   "id": "2a9c2dfd",
   "metadata": {
    "editable": true,
    "slideshow": {
     "slide_type": "subslide"
    },
    "tags": []
   },
   "source": [
    "## Teilnehmer:innen\n",
    "\n",
    "- Name?\n",
    "- Ihr Hintergrund? (z.B. Studienfach, Semester)\n",
    "- Welche Erwartungen haben Sie an den Kurs? (außer \"Ich möchte Python lernen\")\n",
    "- Was bringen Sie mit? (Vorerfahrungen etc.)"
   ]
  },
  {
   "cell_type": "markdown",
   "id": "d1ea1cc7-7ce3-4f88-86d0-a46d2751db52",
   "metadata": {
    "editable": true,
    "slideshow": {
     "slide_type": "slide"
    },
    "tags": []
   },
   "source": [
    "# Lernziele\n",
    "- Installation einer funktionierenden Rechenumgebung für Anwendungen der CSS\n",
    "- Vermittlung von Grundgentnissen in Python\n",
    "- Vermittlung von Grundkenntnissen der Textanalyse\n",
    "- Befähigung zum eigenständigen Lernen von weiterführenden Anwendungen"
   ]
  },
  {
   "attachments": {},
   "cell_type": "markdown",
   "id": "39445b96-eeb5-48d5-8cf5-4e3610507f95",
   "metadata": {
    "editable": true,
    "slideshow": {
     "slide_type": "slide"
    },
    "tags": []
   },
   "source": [
    "# Kursplan"
   ]
  },
  {
   "cell_type": "markdown",
   "id": "d21f579a-1f52-4c1d-a283-1403336debee",
   "metadata": {
    "editable": true,
    "slideshow": {
     "slide_type": "slide"
    },
    "tags": []
   },
   "source": [
    "| Datum  | Uhrzeit |Thema   | Ort| \n",
    "|---|---|---|---|\n",
    "|11.04.| 09:15 - 10:45 Uhr| Einführung, Einrichten der Rechenumgebung, conda environments, package installation|Online|\n",
    "|24.04.| 15:15 - 18:45 Uhr|Python Grundlagen|G40-130|\n",
    "|25.04.| 09:15 - 18:45 Uhr|Pandas|G40-130|\n",
    "|26.04.| 09:15 - 14:45 Uhr|APIs|G40-130|\n",
    "|15.05.| 15:15 - 20:45 Uhr|Textanalysen|G40-130|"
   ]
  },
  {
   "cell_type": "markdown",
   "id": "517803e4",
   "metadata": {
    "editable": true,
    "slideshow": {
     "slide_type": "slide"
    },
    "tags": []
   },
   "source": [
    "# Computational Social Science (CSS)\n",
    "- Interdiziplinäres Feld in der Entstehung\n",
    "- Verschiedenste Definitionen\n",
    "- Im Allgemeinen: Computergestützten Ansätzen in den Sozialwissenschaften (Modellierung, Simulierung und Analyse sozialer Phänomene)\n",
    "- Analyse bspw. sozialer Netzwerke, sozialer Medieninhalte und traditioneller Medieninhalte\n",
    "- Das Feld profitiert von der zunehmende Verfügbarkeit umfangreicher digitaler Daten (z.B. sozialer Medien, Log-Daten) und der zunehmende Computerleistung"
   ]
  },
  {
   "cell_type": "markdown",
   "id": "6af493df",
   "metadata": {
    "slideshow": {
     "slide_type": "subslide"
    }
   },
   "source": [
    "- Daten werden bereits in anderen Disziplinen (Physik, Biologie, Informatik), von Firmen (Google, Facebook, Twitter) oder Staaten gesammelt und ausgewertet\n",
    "- Daten und Methoden erhalten nur langsam Einzug in die Sozialwissenschaften\n",
    "- Die grundlegenden Fragen, die sich aus diesen Daten ergeben, sind überwiegend sozialer Natur\n",
    "- Sozialwissenschaftliche Erhebungs- und Analysetechniken anpassen"
   ]
  },
  {
   "cell_type": "markdown",
   "id": "08671a03",
   "metadata": {
    "slideshow": {
     "slide_type": "slide"
    }
   },
   "source": [
    "# Computing infrastructure\n",
    "- In der CSS kommen computergestütze Methoden zur Anwendung in der \n",
    "    - Datenerhebung, \n",
    "    - Datenverarbeitung \n",
    "    - Datenanalyse\n",
    "- Computergestütze Methoden werden in Programmiersprachen implementiert\n",
    "- Verschiedene Sprachen können kombiniert werden\n",
    "- Wenn möglich nur **eine** Sprache verwenden"
   ]
  },
  {
   "cell_type": "markdown",
   "id": "3c9f862d",
   "metadata": {
    "slideshow": {
     "slide_type": "slide"
    }
   },
   "source": [
    "# Welche Programmiersprache?\n",
    "<img src='images/r.png' style='height: 100px; float: right; margin-left: 10px'>  \n",
    "<img src='images/python.png' style='height: 100px; float: right; margin-left: 10px'> \n",
    "\n",
    "- Die meisten Methoden sind in *R* oder *Python* implementiert\n",
    "- Große user communities (Irgendwer hat dein Problem schon gelöst!)\n",
    "- Kostenlos und open source\n",
    "- Beide Sprachen sind modular (d.h. es gibt Pakete an Funktionen für bestimmte Anwendungen)\n",
    "- R eher für statistische Anwendungen"
   ]
  },
  {
   "cell_type": "markdown",
   "id": "d80d52b9",
   "metadata": {
    "slideshow": {
     "slide_type": "subslide"
    }
   },
   "source": [
    "- Python hat als Allzwecksprache eine interdisziplinärere und breitere Nutzer:innenbasis\n",
    "- Stärken von Python in Datenerhebung und Machinelearning\n",
    "- **Entscheidende Frage**: Welche Sprache benutzt deine Community?"
   ]
  },
  {
   "cell_type": "markdown",
   "id": "afac8ed6",
   "metadata": {
    "slideshow": {
     "slide_type": "slide"
    }
   },
   "source": [
    "# Reproduzierbarkeit\n",
    "- Die Verwendung einer Programmiersprachen macht Forschung reproduzierbar\n",
    "- Forschungsarbeit können unabhängig der Forscher:in wiederholt mit identischen Ergebnissen durchgeführt werden\n",
    "- Damit Forschung reproduzierbar ist müssen Daten und Code dokumentiert werden"
   ]
  },
  {
   "cell_type": "markdown",
   "id": "d030db1f",
   "metadata": {
    "editable": true,
    "jp-MarkdownHeadingCollapsed": true,
    "slideshow": {
     "slide_type": "slide"
    },
    "tags": []
   },
   "source": [
    "# Anaconda\n",
    "<img src='images/anaconda.png' style='height: 50px; float: right; margin-left: 10px'>  \n",
    "\n",
    "- Beliebtes Softwarepaket für R und Python\n",
    "- Grundlegende Funktionalität: **Paketverwaltung**\n",
    "- Stellt grundlegende Pakete bereit und bietet die kontrollierte Möglichkeit weitere Pakete hinzuzufügen"
   ]
  },
  {
   "cell_type": "markdown",
   "id": "ad47aadb",
   "metadata": {
    "editable": true,
    "slideshow": {
     "slide_type": "slide"
    },
    "tags": []
   },
   "source": [
    "# Jupyter Notebook\n",
    "- Interaktives Notebook zur Entwicklung und Dokumentation von Code\n",
    "- Wichtig für die Dokumentation und Reproduzierbarkeit der Forschung\n",
    "- Jupyter Notebooks enthalten Inhaltszeilen, die entweder Code oder Text (Markdown) sein können\n",
    "- Textzeilen dienen dazu den Code zu erklären und zu dokumentieren"
   ]
  },
  {
   "cell_type": "markdown",
   "id": "9ad6ba0c",
   "metadata": {
    "slideshow": {
     "slide_type": "subslide"
    }
   },
   "source": [
    "... auch diese Präsentation ist ein Jupyter Notebook"
   ]
  },
  {
   "cell_type": "code",
   "execution_count": 1,
   "id": "a6f1151f",
   "metadata": {
    "editable": true,
    "slideshow": {
     "slide_type": "subslide"
    },
    "tags": []
   },
   "outputs": [
    {
     "data": {
      "text/plain": [
       "25"
      ]
     },
     "execution_count": 1,
     "metadata": {},
     "output_type": "execute_result"
    }
   ],
   "source": [
    "# das hier ist z.B. eine Codezeile\n",
    "5+20"
   ]
  },
  {
   "cell_type": "markdown",
   "id": "03e6f38f-39bc-4aa8-b9da-041cb0c61dde",
   "metadata": {
    "editable": true,
    "slideshow": {
     "slide_type": "slide"
    },
    "tags": []
   },
   "source": [
    "# anaconda virtuell environments\n",
    "\n",
    "- anaconda ermöglicht es uns virtuelle Python Umgebungen zu erstellen in denen wir bestimmt Python Pakete für einen Zweck (z.B. Webscraping, Machine Learning, etc.) installieren können.\n",
    "- Das ist zum Beispiel dann wichtig, wenn einzelne Pakete auf bestimmte Versionen anderer Pakete oder sogar bestimmte Python Versionen angewiesen sind.\n",
    "- Ein weiterer großer Vorteil: Wenn wir eine virtuelle Umgebung zerschießen, können wir einfach eine neue erstellen ;-)"
   ]
  },
  {
   "cell_type": "markdown",
   "id": "05c4fbe4-1bf2-4124-9b6f-210319f2e3ea",
   "metadata": {
    "editable": true,
    "slideshow": {
     "slide_type": "subslide"
    },
    "tags": []
   },
   "source": [
    "\n",
    "| Befehl | Kommentar |\n",
    "|----|----|\n",
    "|`conda --version`| Überprüfen der conda Installation |\n",
    "|`conda env list` | Anzeigen aller virtuellen Umgebungen |\n",
    "|`conda create --name python_course python=3.9` | Erstellen einer neuen virtuellen Umgebung mit dem Namen \"python_course\" mit der Python Version 3.9 |\n",
    "|`conda env list` | Anzeigen aller virtuellen Umgebungen. Dort müsste nun auch die neue virtuelle Umgebung aufgelistet sein |\n",
    "|`conda activate python_course`| Aktivierung der virtuellen Umgebung \"python course\" |\n",
    "|`python --version`| Überprüfung der Python Version |\n",
    "|`conda activate base`| Aktivierung der base Umgebung |\n",
    "\n"
   ]
  },
  {
   "cell_type": "markdown",
   "id": "2ba4b5ee-895d-41bf-af1f-eefab33fe698",
   "metadata": {
    "editable": true,
    "slideshow": {
     "slide_type": "slide"
    },
    "tags": []
   },
   "source": [
    "# Installation von Python Paketen\n",
    "\n",
    "| Befehl | Kommentar |\n",
    "|----|----|\n",
    "| `conda activate base` | Aktivieren der base Umgebung |\n",
    "|`conda install -c conda-forge jupyterlab`| Installation des Pakets \"jupyterlab\" aus dem \"Paket-Store\" conda-forge. |\n",
    "| `conda install -c conda-forge nb_conda_kernels` | Installation des Pakets nb_conda_kernels. Dieses Paket ist dafür zuständig, dass jupyter unsere erstellten Umgebungen erkennt.|\n",
    "| `conda activate python_course` | Aktivierung der virtuellen Umgebung python_course |\n",
    "| `conda install -c conda-forge ipykernel`| Installation des Pakets ipykernel in der erstellten Umgebung python_course. Dieses Paket ist dafür zuständig, dass jupyter diese Umgebung findet |\n",
    "|`conda install -c conda-forge pandas numpy matplotlib`| Installation weiterer Pakete |"
   ]
  },
  {
   "cell_type": "markdown",
   "id": "8eb26dc1-b625-4520-8f5b-de4301b9d934",
   "metadata": {
    "editable": true,
    "slideshow": {
     "slide_type": "slide"
    },
    "tags": []
   },
   "source": [
    "# Öffnen eines Jupyter Notebooks\n",
    "\n",
    "| Befehl | Kommentar |\n",
    "|----|----|\n",
    "| `conda activate base` | Aktivieren der base Umgebung |\n",
    "| `jupyter lab`| Öffnen eines jupyter labs |\n",
    "\n",
    "Im Jupyter Notebook müsste nun die neu erstellte Umgebung `python_course`ausgewählt werden können."
   ]
  },
  {
   "attachments": {},
   "cell_type": "markdown",
   "id": "c1c8f2c0-2e9a-4b8c-9aab-435e085adaa7",
   "metadata": {
    "editable": true,
    "slideshow": {
     "slide_type": "slide"
    },
    "tags": []
   },
   "source": [
    "# Auswahl des richtigen Anaconda environments in jupyter lab\n",
    "\n",
    "<img src=\"images/kernel_1.jpg\">"
   ]
  },
  {
   "cell_type": "markdown",
   "id": "9616c91c-bd0a-4714-82cb-d952ae910c97",
   "metadata": {
    "editable": true,
    "slideshow": {
     "slide_type": "slide"
    },
    "tags": []
   },
   "source": [
    "<img src=\"images/kernel_2.png\">"
   ]
  },
  {
   "cell_type": "markdown",
   "id": "37317258-c0a1-4e7a-ade7-88aaacd95732",
   "metadata": {
    "editable": true,
    "slideshow": {
     "slide_type": "slide"
    },
    "tags": []
   },
   "source": [
    "# Formatierung von jupyter Notebooks mit Markdown"
   ]
  },
  {
   "cell_type": "markdown",
   "id": "0c4dbf04-f5e4-4f53-b620-1893999eb71b",
   "metadata": {
    "editable": true,
    "slideshow": {
     "slide_type": "subslide"
    },
    "tags": []
   },
   "source": [
    "# Header 1\n",
    "## Header 2\n",
    "### Header 3\n",
    "#### Header 4\n",
    "##### Header 5\n",
    "###### Header 6"
   ]
  },
  {
   "cell_type": "markdown",
   "id": "0351acb0-f129-42cc-9600-3eda7456e2a7",
   "metadata": {
    "editable": true,
    "slideshow": {
     "slide_type": "subslide"
    },
    "tags": []
   },
   "source": [
    "**This is bold text**  \n",
    "__This is bold text__\n",
    "\n",
    "*This is italic text*  \n",
    "_This is italic text_"
   ]
  },
  {
   "cell_type": "markdown",
   "id": "69db0701-962d-42aa-96d3-501e93badf40",
   "metadata": {
    "editable": true,
    "slideshow": {
     "slide_type": "subslide"
    },
    "tags": []
   },
   "source": [
    "**Aufgabe**:\n",
    "\n",
    "- Formatieren Sie das Notebook *notebook_unformatiert.ipynb*\n",
    "- Dieser Artikel kann Sie dabei unterstützen: [Link](https://medium.com/analytics-vidhya/the-ultimate-markdown-guide-for-jupyter-notebook-d5e5abf728fd)"
   ]
  },
  {
   "cell_type": "markdown",
   "id": "0d1ed857",
   "metadata": {
    "editable": true,
    "slideshow": {
     "slide_type": "slide"
    },
    "tags": []
   },
   "source": [
    "# Prüfungsleistung"
   ]
  },
  {
   "cell_type": "markdown",
   "id": "0375062b-83fe-4a04-be09-edaa85fb8e6c",
   "metadata": {
    "editable": true,
    "slideshow": {
     "slide_type": "subslide"
    },
    "tags": []
   },
   "source": [
    "## Option 1\n",
    "- Leistungsumfang: Abgabe eines selbst verfassten Jupyter Notebooks in dem Sie die Kursinhalte an einem selbst gewählten Datensatz/API anwenden und kommentieren.\n",
    "- Leistungspunkte: 4CP\n",
    "- Frist (zwingend!): 22.06.2025"
   ]
  },
  {
   "cell_type": "markdown",
   "id": "7525a162",
   "metadata": {
    "editable": true,
    "slideshow": {
     "slide_type": "slide"
    },
    "tags": []
   },
   "source": [
    "# Literatur und zusätzliches Material\n",
    "\n",
    "### Literatur\n",
    "\n",
    "Heiberger, Raphael H., and Jan R. Riebling. 2016. ‘Installing Computational Social Science: Facing the Challenges of New Information and Communication Technologies in Social Science’. Methodological Innovations. doi: [10.1177/2059799115622763](https://journals.sagepub.com/doi/10.1177/2059799115622763).\n",
    "\n",
    "Lazer, David, et al. 2009. ‘Computational Social Science’. Science 323(5915):721–23. doi: [10.1126/science.1167742](https://www.science.org/doi/10.1126/science.1167742).\n",
    "\n",
    "McLevey, John. 2021. Doing Computational Social Science: A Practical Introduction. 1st ed. Thousand Oaks: SAGE Publications."
   ]
  },
  {
   "cell_type": "markdown",
   "id": "5f457401",
   "metadata": {
    "editable": true,
    "slideshow": {
     "slide_type": "subslide"
    },
    "tags": []
   },
   "source": [
    "Van Atteveldt, W., Trilling, D., & Calderón, C. A. (2022). Computational Analysis of Communication. Wiley Blackwell. ([Link](https://cssbook.net/))\n",
    "\n",
    "Vanderplas, Jacob T. 2016. Python Data Science Handbook: Essential Tools for Working with Data. First edition. Sebastopol, CA: O’Reilly Media, Inc. (Komplettes Buch in Form von Jupyter Notebooks [hier](https://jakevdp.github.io/PythonDataScienceHandbook/))"
   ]
  },
  {
   "cell_type": "markdown",
   "id": "e3bc942c",
   "metadata": {
    "editable": true,
    "slideshow": {
     "slide_type": "subslide"
    },
    "tags": []
   },
   "source": [
    "### Tutorials\n",
    "\n",
    "Lietz, Haiko et al. 2023. Introduction to Computational Social Science methods with Python. [GitHub-Link](https://github.com/gesiscss/css_methods_python)"
   ]
  },
  {
   "cell_type": "markdown",
   "id": "96d90fb3",
   "metadata": {
    "editable": true,
    "slideshow": {
     "slide_type": "subslide"
    },
    "tags": []
   },
   "source": [
    "### datacamp\n",
    "\n",
    "- Interaktive Plattform mit online Programmierkursen ([Link](https://app.datacamp.com/))\n",
    "- DataCamp Classrooms für diesen Kurs verfügbar (6 Monate kostenloser Zugriff auf alle Kurse)\n",
    "- Zusätzliches Angebot und keine Voraussetzung für das Bestehen dieses Kurses"
   ]
  }
 ],
 "metadata": {
  "celltoolbar": "Slideshow",
  "kernelspec": {
   "display_name": "Python [conda env:python_course]",
   "language": "python",
   "name": "conda-env-python_course-py"
  },
  "language_info": {
   "codemirror_mode": {
    "name": "ipython",
    "version": 3
   },
   "file_extension": ".py",
   "mimetype": "text/x-python",
   "name": "python",
   "nbconvert_exporter": "python",
   "pygments_lexer": "ipython3",
   "version": "3.9.19"
  }
 },
 "nbformat": 4,
 "nbformat_minor": 5
}
